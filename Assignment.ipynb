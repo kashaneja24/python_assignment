{
  "nbformat": 4,
  "nbformat_minor": 0,
  "metadata": {
    "colab": {
      "provenance": [],
      "authorship_tag": "ABX9TyOVzb6MvDMkBAASSBFvNbuB",
      "include_colab_link": true
    },
    "kernelspec": {
      "name": "python3",
      "display_name": "Python 3"
    },
    "language_info": {
      "name": "python"
    }
  },
  "cells": [
    {
      "cell_type": "markdown",
      "metadata": {
        "id": "view-in-github",
        "colab_type": "text"
      },
      "source": [
        "<a href=\"https://colab.research.google.com/github/kashaneja24/python_assignment/blob/main/Assignment.ipynb\" target=\"_parent\"><img src=\"https://colab.research.google.com/assets/colab-badge.svg\" alt=\"Open In Colab\"/></a>"
      ]
    },
    {
      "cell_type": "code",
      "execution_count": null,
      "metadata": {
        "colab": {
          "base_uri": "https://localhost:8080/"
        },
        "id": "8F7-ZC1ItYUS",
        "outputId": "d2c7b9e9-d72f-40b1-fe9d-35f0aaad1101"
      },
      "outputs": [
        {
          "output_type": "stream",
          "name": "stdout",
          "text": [
            "[11, 12, 13, 14, 50, 60]\n"
          ]
        }
      ],
      "source": [
        "#1\n",
        "L=[11,12,13,14]\n",
        "L.extend([50,60])\n",
        "print(L)\n",
        "\n"
      ]
    },
    {
      "cell_type": "code",
      "source": [
        "L.remove(11)\n",
        "L.remove(13)\n",
        "print(L)"
      ],
      "metadata": {
        "colab": {
          "base_uri": "https://localhost:8080/"
        },
        "id": "8-IM5YHzuIqt",
        "outputId": "3905d96a-0a3f-4352-bfa6-806cb0c91701"
      },
      "execution_count": null,
      "outputs": [
        {
          "output_type": "stream",
          "name": "stdout",
          "text": [
            "[12, 14, 50, 60]\n"
          ]
        }
      ]
    },
    {
      "cell_type": "code",
      "source": [
        "L.sort()\n",
        "print(L)"
      ],
      "metadata": {
        "colab": {
          "base_uri": "https://localhost:8080/"
        },
        "id": "tz162JSLuypR",
        "outputId": "4f24eff1-d4b5-4d85-f3e7-bd558476047c"
      },
      "execution_count": null,
      "outputs": [
        {
          "output_type": "stream",
          "name": "stdout",
          "text": [
            "[12, 14, 50, 60]\n"
          ]
        }
      ]
    },
    {
      "cell_type": "code",
      "source": [
        "L.sort(reverse=True)\n",
        "print(L)\n"
      ],
      "metadata": {
        "colab": {
          "base_uri": "https://localhost:8080/"
        },
        "id": "OR9828KRu3NM",
        "outputId": "e64f22fd-59e9-4899-9687-cb87f4d0e5bc"
      },
      "execution_count": null,
      "outputs": [
        {
          "output_type": "stream",
          "name": "stdout",
          "text": [
            "[60, 50, 14, 12]\n"
          ]
        }
      ]
    },
    {
      "cell_type": "code",
      "source": [
        "print(\"is 13 present:\",13 in L)"
      ],
      "metadata": {
        "colab": {
          "base_uri": "https://localhost:8080/"
        },
        "id": "8DxVZqiKvhju",
        "outputId": "4587ad7a-7789-4700-927e-b0d6cd1f9c0a"
      },
      "execution_count": null,
      "outputs": [
        {
          "output_type": "stream",
          "name": "stdout",
          "text": [
            "is 13 present: False\n"
          ]
        }
      ]
    },
    {
      "cell_type": "code",
      "source": [
        "print(len(L))"
      ],
      "metadata": {
        "colab": {
          "base_uri": "https://localhost:8080/"
        },
        "id": "-5EtWFGEy22d",
        "outputId": "02027bc7-dddf-4bd3-a791-3ea9a10ea193"
      },
      "execution_count": null,
      "outputs": [
        {
          "output_type": "stream",
          "name": "stdout",
          "text": [
            "4\n"
          ]
        }
      ]
    },
    {
      "cell_type": "code",
      "source": [
        "print(sum(L))"
      ],
      "metadata": {
        "colab": {
          "base_uri": "https://localhost:8080/"
        },
        "id": "URR-j-dWy8dS",
        "outputId": "e5f46544-a37c-47d9-ad9e-4e742e569e08"
      },
      "execution_count": null,
      "outputs": [
        {
          "output_type": "stream",
          "name": "stdout",
          "text": [
            "136\n"
          ]
        }
      ]
    },
    {
      "cell_type": "code",
      "source": [
        "s=0\n",
        "for i in L:\n",
        "  if i%2!=0:\n",
        "    s=s+i\n",
        "print(\"sum of odd elements:\",s)"
      ],
      "metadata": {
        "colab": {
          "base_uri": "https://localhost:8080/"
        },
        "id": "SvQbAVtqzHJ4",
        "outputId": "36c1b2bd-8d55-4174-f56d-7d47b178bee9"
      },
      "execution_count": null,
      "outputs": [
        {
          "output_type": "stream",
          "name": "stdout",
          "text": [
            "sum of odd elements: 0\n"
          ]
        }
      ]
    },
    {
      "cell_type": "code",
      "source": [
        "s=0\n",
        "for i in L:\n",
        "  if i%2==0:\n",
        "    s=s+i\n",
        "print(\"sum of even elements:\",s)"
      ],
      "metadata": {
        "colab": {
          "base_uri": "https://localhost:8080/"
        },
        "id": "XeeuoJzGzqZf",
        "outputId": "d8f6619b-0ad3-44c5-9f65-585627fa9f31"
      },
      "execution_count": null,
      "outputs": [
        {
          "output_type": "stream",
          "name": "stdout",
          "text": [
            "sum of even elements: 136\n"
          ]
        }
      ]
    },
    {
      "cell_type": "code",
      "source": [
        "n=L\n",
        "s=0\n",
        "for i in range(2,n+1):\n",
        "  if i%n==0:\n",
        "    break\n",
        "  else:\n",
        "    s=s+i\n",
        "print(\"sum of prime elements:\",s)"
      ],
      "metadata": {
        "id": "6XQ7sA_-zwkQ",
        "colab": {
          "base_uri": "https://localhost:8080/",
          "height": 211
        },
        "outputId": "fb13d9ba-23ec-4dd0-fd96-0816d9f1b970"
      },
      "execution_count": null,
      "outputs": [
        {
          "output_type": "error",
          "ename": "IndexError",
          "evalue": "list index out of range",
          "traceback": [
            "\u001b[0;31m---------------------------------------------------------------------------\u001b[0m",
            "\u001b[0;31mIndexError\u001b[0m                                Traceback (most recent call last)",
            "\u001b[0;32m<ipython-input-18-3db21dbdd8d2>\u001b[0m in \u001b[0;36m<cell line: 1>\u001b[0;34m()\u001b[0m\n\u001b[0;32m----> 1\u001b[0;31m \u001b[0mn\u001b[0m\u001b[0;34m=\u001b[0m\u001b[0mL\u001b[0m\u001b[0;34m[\u001b[0m\u001b[0mi\u001b[0m\u001b[0;34m]\u001b[0m\u001b[0;34m\u001b[0m\u001b[0;34m\u001b[0m\u001b[0m\n\u001b[0m\u001b[1;32m      2\u001b[0m \u001b[0ms\u001b[0m\u001b[0;34m=\u001b[0m\u001b[0;36m0\u001b[0m\u001b[0;34m\u001b[0m\u001b[0;34m\u001b[0m\u001b[0m\n\u001b[1;32m      3\u001b[0m \u001b[0;32mfor\u001b[0m \u001b[0mi\u001b[0m \u001b[0;32min\u001b[0m \u001b[0mrange\u001b[0m\u001b[0;34m(\u001b[0m\u001b[0;36m2\u001b[0m\u001b[0;34m,\u001b[0m\u001b[0mn\u001b[0m\u001b[0;34m+\u001b[0m\u001b[0;36m1\u001b[0m\u001b[0;34m)\u001b[0m\u001b[0;34m:\u001b[0m\u001b[0;34m\u001b[0m\u001b[0;34m\u001b[0m\u001b[0m\n\u001b[1;32m      4\u001b[0m   \u001b[0;32mif\u001b[0m \u001b[0mi\u001b[0m\u001b[0;34m%\u001b[0m\u001b[0mn\u001b[0m\u001b[0;34m==\u001b[0m\u001b[0;36m0\u001b[0m\u001b[0;34m:\u001b[0m\u001b[0;34m\u001b[0m\u001b[0;34m\u001b[0m\u001b[0m\n\u001b[1;32m      5\u001b[0m     \u001b[0;32mbreak\u001b[0m\u001b[0;34m\u001b[0m\u001b[0;34m\u001b[0m\u001b[0m\n",
            "\u001b[0;31mIndexError\u001b[0m: list index out of range"
          ]
        }
      ]
    },
    {
      "cell_type": "code",
      "source": [
        "L.clear()\n",
        "print(L)"
      ],
      "metadata": {
        "colab": {
          "base_uri": "https://localhost:8080/"
        },
        "id": "CDGF_jjor67a",
        "outputId": "2bca4a80-01cd-4daa-e801-eda3f7ef9c15"
      },
      "execution_count": null,
      "outputs": [
        {
          "output_type": "stream",
          "name": "stdout",
          "text": [
            "[]\n"
          ]
        }
      ]
    },
    {
      "cell_type": "code",
      "source": [
        "d={1:5.6,2:7.8,3:6.6,4:8.7,5:7.7}\n",
        "print(d)\n",
        "d[8]=8.8\n",
        "print(d)"
      ],
      "metadata": {
        "colab": {
          "base_uri": "https://localhost:8080/"
        },
        "id": "yhMm9esptM1m",
        "outputId": "ec085920-9d7f-413b-a1d6-4a8e47fe66e8"
      },
      "execution_count": null,
      "outputs": [
        {
          "output_type": "stream",
          "name": "stdout",
          "text": [
            "{1: 5.6, 2: 7.8, 3: 6.6, 4: 8.7, 5: 7.7}\n",
            "{1: 5.6, 2: 7.8, 3: 6.6, 4: 8.7, 5: 7.7, 8: 8.8}\n"
          ]
        }
      ]
    },
    {
      "cell_type": "code",
      "source": [
        "del d[2]\n",
        "print(d)"
      ],
      "metadata": {
        "colab": {
          "base_uri": "https://localhost:8080/"
        },
        "id": "4MhrmEyLuecd",
        "outputId": "61251962-2d94-4d03-ee96-eb46c7aba64d"
      },
      "execution_count": null,
      "outputs": [
        {
          "output_type": "stream",
          "name": "stdout",
          "text": [
            "{1: 5.6, 3: 6.6, 4: 8.7, 5: 7.7, 8: 8.8}\n"
          ]
        }
      ]
    },
    {
      "cell_type": "code",
      "source": [
        "print(\"is 6 is present or not:-\", 6 in d)"
      ],
      "metadata": {
        "colab": {
          "base_uri": "https://localhost:8080/"
        },
        "id": "4YWHFeXtuslG",
        "outputId": "ff6f9ccd-2079-4830-ddc5-b54bec978ac1"
      },
      "execution_count": null,
      "outputs": [
        {
          "output_type": "stream",
          "name": "stdout",
          "text": [
            "is 6 is present or not:- False\n"
          ]
        }
      ]
    },
    {
      "cell_type": "code",
      "source": [
        "print(len(d))"
      ],
      "metadata": {
        "colab": {
          "base_uri": "https://localhost:8080/"
        },
        "id": "xGYfz2fau9Mk",
        "outputId": "447f66d8-ea04-4f75-cde2-28ce80624a53"
      },
      "execution_count": null,
      "outputs": [
        {
          "output_type": "stream",
          "name": "stdout",
          "text": [
            "5\n"
          ]
        }
      ]
    },
    {
      "cell_type": "code",
      "source": [
        "print(sum(d.values()))"
      ],
      "metadata": {
        "colab": {
          "base_uri": "https://localhost:8080/"
        },
        "id": "bvC8412_vFRN",
        "outputId": "07845256-dee2-40b8-bd00-cb83dfa36f34"
      },
      "execution_count": null,
      "outputs": [
        {
          "output_type": "stream",
          "name": "stdout",
          "text": [
            "37.4\n"
          ]
        }
      ]
    },
    {
      "cell_type": "code",
      "source": [
        "d[3]=7.1\n",
        "print(d)\n",
        "d.clear()\n",
        "print(d)"
      ],
      "metadata": {
        "colab": {
          "base_uri": "https://localhost:8080/"
        },
        "id": "pd7a1bykv-Kb",
        "outputId": "9a0abaf2-c25b-4e84-82a3-4cb733dc5c85"
      },
      "execution_count": null,
      "outputs": [
        {
          "output_type": "stream",
          "name": "stdout",
          "text": [
            "{1: 5.6, 3: 7.1, 4: 8.7, 5: 7.7, 8: 8.8}\n",
            "{}\n"
          ]
        }
      ]
    },
    {
      "cell_type": "code",
      "source": [
        "S1=[10,20,30,40,50,60]\n",
        "S2=[40,50,60,70,80,90]\n",
        "S1.insert(6,55)\n",
        "S1.insert(7,66)\n",
        "print(S1)\n",
        "S1.remove(10)\n",
        "S1.remove(30)\n",
        "print(S1)"
      ],
      "metadata": {
        "colab": {
          "base_uri": "https://localhost:8080/"
        },
        "id": "iUe2NDGUz9ae",
        "outputId": "81ed3ec2-b975-47a8-d9df-289f7bf86874"
      },
      "execution_count": null,
      "outputs": [
        {
          "output_type": "stream",
          "name": "stdout",
          "text": [
            "[10, 20, 30, 40, 50, 60, 55, 66]\n",
            "[20, 40, 50, 60, 55, 66]\n"
          ]
        }
      ]
    },
    {
      "cell_type": "code",
      "source": [
        "print(\"is 40 is present in S1 or not:-\",40 in S1)"
      ],
      "metadata": {
        "colab": {
          "base_uri": "https://localhost:8080/"
        },
        "id": "70tnr1HX1e8T",
        "outputId": "1c8427dc-6cc3-4094-ae61-dd1379bf3714"
      },
      "execution_count": null,
      "outputs": [
        {
          "output_type": "stream",
          "name": "stdout",
          "text": [
            "is 40 is present in S1 or not:- True\n"
          ]
        }
      ]
    },
    {
      "cell_type": "code",
      "source": [
        "s1=set(S1)\n",
        "s2=set(S2)\n",
        "print(s1.union(s2))\n",
        "print(s1.intersection(s2))"
      ],
      "metadata": {
        "colab": {
          "base_uri": "https://localhost:8080/"
        },
        "id": "zlsz_Rb61m7s",
        "outputId": "b1ecb346-4a85-412a-de8c-9348cb7ff856"
      },
      "execution_count": null,
      "outputs": [
        {
          "output_type": "stream",
          "name": "stdout",
          "text": [
            "{66, 70, 40, 80, 50, 20, 55, 90, 60}\n",
            "{40, 50, 60}\n"
          ]
        }
      ]
    },
    {
      "cell_type": "code",
      "source": [
        "print(s1.difference(s2))"
      ],
      "metadata": {
        "colab": {
          "base_uri": "https://localhost:8080/"
        },
        "id": "l8UWXbRR2Tej",
        "outputId": "d1622cf2-b6ba-4d0a-b52b-02f50b05ba96"
      },
      "execution_count": null,
      "outputs": [
        {
          "output_type": "stream",
          "name": "stdout",
          "text": [
            "{66, 20, 55}\n"
          ]
        }
      ]
    },
    {
      "cell_type": "code",
      "source": [
        "import string as s\n",
        "import random as r\n",
        "n=100\n",
        "min=6\n",
        "max=8\n"
      ],
      "metadata": {
        "id": "O1B1zFSq2c1-"
      },
      "execution_count": null,
      "outputs": []
    },
    {
      "cell_type": "code",
      "source": [
        "import random\n",
        "import string\n",
        "\n",
        "def generate_random_string(min_length, max_length):\n",
        "    length = random.randint(min_length, max_length)\n",
        "    return ''.join(random.choice(string.ascii_letters + string.digits) for _ in range(length))\n",
        "\n",
        "for _ in range(100):\n",
        "    random_string = generate_random_string(6, 8)\n",
        "    print(random_string)"
      ],
      "metadata": {
        "colab": {
          "base_uri": "https://localhost:8080/"
        },
        "id": "OuDs8g7u7Gqq",
        "outputId": "62841e0d-90fe-4995-a88e-8c0737d0a831"
      },
      "execution_count": null,
      "outputs": [
        {
          "output_type": "stream",
          "name": "stdout",
          "text": [
            "72Bx8Db\n",
            "1Ub4hou\n",
            "CtbmD0p\n",
            "53wGU6\n",
            "Xfb7fkSz\n",
            "BIAsSK8v\n",
            "MdDI4o\n",
            "WzsIaV1s\n",
            "4Q4X5Dr\n",
            "bTa0m84h\n",
            "i3LDdhg\n",
            "p4hDg8Ll\n",
            "80M8o11\n",
            "Wc7I4Lv\n",
            "EuCDi8O\n",
            "KRNZPN\n",
            "m7qZvk\n",
            "86APGD\n",
            "ceYmEof\n",
            "FWQXWISW\n",
            "NN8ZTS\n",
            "WKcgwy\n",
            "JcMRzaY\n",
            "Wkq4Zy\n",
            "bgadLMl\n",
            "tWabTsDn\n",
            "mt3o3Wcj\n",
            "yf4IfaEb\n",
            "DZRz3Ock\n",
            "TjRRxM\n",
            "gceoziAM\n",
            "LWLQpPg\n",
            "FtOYy3Wv\n",
            "YPffHj\n",
            "FM0B3KF\n",
            "9vkeKpcG\n",
            "v9iSFj\n",
            "nyM3qdp\n",
            "yFnYwwXO\n",
            "ZBALYzSx\n",
            "QfIaWC\n",
            "1CKs1n\n",
            "RmckKo\n",
            "StoUBTG\n",
            "gb6QJO4u\n",
            "e8Fm90\n",
            "H1tDPrX\n",
            "AIRyLA\n",
            "kbhhvl59\n",
            "Dyic70lv\n",
            "U7XYvZEy\n",
            "glm23DC\n",
            "gkw4TLG\n",
            "ag9CWKYE\n",
            "Gh1UWRXq\n",
            "A9BKdl\n",
            "I1NeyeN\n",
            "ZNUipTR\n",
            "wFiPHr\n",
            "wHolSN\n",
            "h6C7IF\n",
            "Ab0h9H\n",
            "7TkB8I\n",
            "F4pQzch\n",
            "cblBLx\n",
            "Dx3XkT\n",
            "CBumTIsG\n",
            "TsmykG\n",
            "nbNluKS0\n",
            "BnYrHAF\n",
            "kTDdOg1\n",
            "SEbl1u0\n",
            "Z65cD1A4\n",
            "UsFPgSs\n",
            "KWkYnt\n",
            "uDVncVl\n",
            "f3CGKB\n",
            "fRdCEV\n",
            "t7gia7\n",
            "5UDNgWE\n",
            "a8yB3w\n",
            "edI49nd\n",
            "fhGedU\n",
            "KXoO3Xcx\n",
            "kMlgZRjC\n",
            "qp2nML8B\n",
            "o6aEqGUZ\n",
            "3tiFhxR\n",
            "wvPoz4Oy\n",
            "csSZsRO\n",
            "W1mKyc\n",
            "jE3x74C\n",
            "TWFARu\n",
            "dXjmEy2t\n",
            "pZQTUjd\n",
            "P71ptK\n",
            "zl5YXNDe\n",
            "n4AO9FRl\n",
            "NUiuJhA\n",
            "zfEoOee\n"
          ]
        }
      ]
    },
    {
      "cell_type": "code",
      "source": [
        "def IsPrime(n):\n",
        "\tfor i in range(2, n//2 + 1):\n",
        "\t\tif n%i==0:\n",
        "\t\t\treturn 0\n",
        "\treturn 1\n",
        "lower=600\n",
        "upper=800\n",
        "for n in range(lower,upper+1):\n",
        "  if IsPrime(n):\n",
        "    print(n)\n",
        "\n"
      ],
      "metadata": {
        "colab": {
          "base_uri": "https://localhost:8080/"
        },
        "id": "9HqSJUrW4UKV",
        "outputId": "b76bfc32-1bab-4fa9-df84-7b8df853c424"
      },
      "execution_count": null,
      "outputs": [
        {
          "output_type": "stream",
          "name": "stdout",
          "text": [
            "601\n",
            "607\n",
            "613\n",
            "617\n",
            "619\n",
            "631\n",
            "641\n",
            "643\n",
            "647\n",
            "653\n",
            "659\n",
            "661\n",
            "673\n",
            "677\n",
            "683\n",
            "691\n",
            "701\n",
            "709\n",
            "719\n",
            "727\n",
            "733\n",
            "739\n",
            "743\n",
            "751\n",
            "757\n",
            "761\n",
            "769\n",
            "773\n",
            "787\n",
            "797\n"
          ]
        }
      ]
    },
    {
      "cell_type": "code",
      "source": [
        "for num in range(100, 1001):\n",
        "    if num % 7 == 0 and num % 9 == 0:\n",
        "        print(num)\n"
      ],
      "metadata": {
        "colab": {
          "base_uri": "https://localhost:8080/"
        },
        "id": "_ntL_GI66bg1",
        "outputId": "c8be3e9c-d8d9-491d-899b-2a23be632fa7"
      },
      "execution_count": null,
      "outputs": [
        {
          "output_type": "stream",
          "name": "stdout",
          "text": [
            "126\n",
            "189\n",
            "252\n",
            "315\n",
            "378\n",
            "441\n",
            "504\n",
            "567\n",
            "630\n",
            "693\n",
            "756\n",
            "819\n",
            "882\n",
            "945\n"
          ]
        }
      ]
    },
    {
      "cell_type": "code",
      "source": [
        "import random as r\n",
        "\n",
        "list1 = [r.randint(10, 30) for _ in range(10)]\n",
        "list2 = [r.randint(10, 30) for _ in range(10)]\n",
        "\n",
        "print(\"List 1:\", list1)\n",
        "print(\"List 2:\", list2)\n",
        "\n",
        "common_numbers = list(set(list1) & set(list2))\n",
        "print(\"Common numbers:\", common_numbers)\n"
      ],
      "metadata": {
        "colab": {
          "base_uri": "https://localhost:8080/"
        },
        "id": "0UuKlq9Z_QRt",
        "outputId": "57227fdd-67d0-45cb-9428-c7e5efb0a598"
      },
      "execution_count": null,
      "outputs": [
        {
          "output_type": "stream",
          "name": "stdout",
          "text": [
            "List 1: [20, 24, 23, 22, 20, 22, 10, 10, 30, 11]\n",
            "List 2: [23, 26, 17, 27, 17, 14, 30, 26, 10, 21]\n",
            "Common numbers: [10, 30, 23]\n"
          ]
        }
      ]
    },
    {
      "cell_type": "code",
      "source": [
        "unique_in_list1 = list(set(list1) - set(list2))\n",
        "unique_in_list2 = list(set(list2) - set(list1))\n",
        "all_unique_elements = unique_in_list1 + unique_in_list2\n",
        "print(\"All unique elements:\", all_unique_elements)"
      ],
      "metadata": {
        "colab": {
          "base_uri": "https://localhost:8080/"
        },
        "id": "cV18K1y__eWv",
        "outputId": "45881303-f233-4d88-9039-db0641b6f29f"
      },
      "execution_count": null,
      "outputs": [
        {
          "output_type": "stream",
          "name": "stdout",
          "text": [
            "All unique elements: [24, 11, 20, 22, 14, 17, 21, 26, 27]\n"
          ]
        }
      ]
    },
    {
      "cell_type": "code",
      "source": [
        "print(\"List 1 - Minimum:\", min(list1))\n",
        "print(\"List 1 - Maximum:\", max(list1))\n",
        "print(\"List 2 - Minimum:\", min(list2))\n",
        "print(\"List 2 - Maximum:\", max(list2))\n",
        "all_numbers = list1 + list2\n",
        "print(\"Minimum in both lists:\", min(all_numbers))\n",
        "print(\"Maximum in both lists:\", max(all_numbers))"
      ],
      "metadata": {
        "colab": {
          "base_uri": "https://localhost:8080/"
        },
        "id": "v3WoT5vW_l-8",
        "outputId": "d71b7b16-5dfb-4aef-b741-6be197775b65"
      },
      "execution_count": null,
      "outputs": [
        {
          "output_type": "stream",
          "name": "stdout",
          "text": [
            "List 1 - Minimum: 10\n",
            "List 1 - Maximum: 30\n",
            "List 2 - Minimum: 10\n",
            "List 2 - Maximum: 30\n",
            "Minimum in both lists: 10\n",
            "Maximum in both lists: 30\n"
          ]
        }
      ]
    },
    {
      "cell_type": "code",
      "source": [
        "sum_list1 = sum(list1)\n",
        "print(\"Sum of List 1:\", sum_list1)\n",
        "sum_list2 = sum(list2)\n",
        "print(\"Sum of List 2:\", sum_list2)\n",
        "total_sum = sum_list1 + sum_list2\n",
        "print(\"Total sum of both lists:\", total_sum)\n"
      ],
      "metadata": {
        "colab": {
          "base_uri": "https://localhost:8080/"
        },
        "id": "z-nNoMsV_tbB",
        "outputId": "03292abd-7079-4b24-86ef-d6d99251e7a7"
      },
      "execution_count": null,
      "outputs": [
        {
          "output_type": "stream",
          "name": "stdout",
          "text": [
            "Sum of List 1: 192\n",
            "Sum of List 2: 211\n",
            "Total sum of both lists: 403\n"
          ]
        }
      ]
    },
    {
      "cell_type": "code",
      "source": [
        "random_l=[random.randint(100,900) for i in range(100)]\n",
        "odd_count=0\n",
        "odd_numbers=[]  #empty list to store odd numbers\n",
        "for n in random_l:\n",
        "  if n%2!=0:\n",
        "    odd_count+=1\n",
        "    odd_numbers.append(n)\n",
        "print(odd_count)\n",
        "print(odd_numbers)"
      ],
      "metadata": {
        "colab": {
          "base_uri": "https://localhost:8080/"
        },
        "id": "FM3lQkGJ7WFD",
        "outputId": "9ceab718-526a-47b9-f43d-7d56919d6e5b"
      },
      "execution_count": null,
      "outputs": [
        {
          "output_type": "stream",
          "name": "stdout",
          "text": [
            "46\n",
            "[309, 347, 367, 813, 869, 205, 237, 399, 783, 477, 743, 315, 471, 473, 393, 189, 469, 615, 675, 265, 673, 539, 697, 791, 221, 107, 649, 703, 895, 205, 611, 275, 335, 625, 191, 489, 261, 125, 889, 593, 711, 529, 781, 673, 191, 145]\n"
          ]
        }
      ]
    },
    {
      "cell_type": "code",
      "source": [
        "even_count=0\n",
        "even_numbers=[]  #empty list to store even numbers\n",
        "for n in random_l:\n",
        "  if n%2==0:\n",
        "    even_count+=1\n",
        "    even_numbers.append(n)\n",
        "print(even_count)\n",
        "print(even_numbers)"
      ],
      "metadata": {
        "colab": {
          "base_uri": "https://localhost:8080/"
        },
        "id": "plyxxIA4-Vtt",
        "outputId": "a1af9474-a4e9-4a91-838c-a85113c7f5aa"
      },
      "execution_count": null,
      "outputs": [
        {
          "output_type": "stream",
          "name": "stdout",
          "text": [
            "54\n",
            "[474, 554, 348, 464, 864, 336, 198, 174, 338, 484, 484, 484, 718, 458, 734, 196, 480, 636, 676, 198, 202, 156, 138, 534, 116, 156, 732, 630, 512, 574, 242, 376, 546, 548, 314, 862, 522, 142, 114, 560, 398, 346, 586, 170, 372, 540, 866, 538, 836, 494, 384, 134, 138, 650]\n"
          ]
        }
      ]
    },
    {
      "cell_type": "code",
      "source": [
        "prime_count=0\n",
        "prime_numbers=[]\n",
        "for n in random_l:\n",
        "  is_prime=True\n",
        "  for i in range(2,n//2+1):\n",
        "    if n%i==0:\n",
        "      is_prime=False\n",
        "      break\n",
        "    if is_prime:\n",
        "      prime_count+=1\n",
        "    prime_numbers.append(n)\n",
        "print(prime_count)\n",
        "print(prime_numbers)\n",
        "\n"
      ],
      "metadata": {
        "colab": {
          "base_uri": "https://localhost:8080/"
        },
        "id": "G0FVCA3D-k88",
        "outputId": "70089f63-3ca5-4d4e-bb78-93691a246b4e"
      },
      "execution_count": null,
      "outputs": [
        {
          "output_type": "stream",
          "name": "stdout",
          "text": [
            "2102\n",
            "[309, 347, 347, 347, 347, 347, 347, 347, 347, 347, 347, 347, 347, 347, 347, 347, 347, 347, 347, 347, 347, 347, 347, 347, 347, 347, 347, 347, 347, 347, 347, 347, 347, 347, 347, 347, 347, 347, 347, 347, 347, 347, 347, 347, 347, 347, 347, 347, 347, 347, 347, 347, 347, 347, 347, 347, 347, 347, 347, 347, 347, 347, 347, 347, 347, 347, 347, 347, 347, 347, 347, 347, 347, 347, 347, 347, 347, 347, 347, 347, 347, 347, 347, 347, 347, 347, 347, 347, 347, 347, 347, 347, 347, 347, 347, 347, 347, 347, 347, 347, 347, 347, 347, 347, 347, 347, 347, 347, 347, 347, 347, 347, 347, 347, 347, 347, 347, 347, 347, 347, 347, 347, 347, 347, 347, 347, 347, 347, 347, 347, 347, 347, 347, 347, 347, 347, 347, 347, 347, 347, 347, 347, 347, 347, 347, 347, 347, 347, 347, 347, 347, 347, 347, 347, 347, 347, 347, 347, 347, 347, 347, 347, 347, 347, 347, 347, 347, 347, 347, 347, 347, 347, 347, 367, 367, 367, 367, 367, 367, 367, 367, 367, 367, 367, 367, 367, 367, 367, 367, 367, 367, 367, 367, 367, 367, 367, 367, 367, 367, 367, 367, 367, 367, 367, 367, 367, 367, 367, 367, 367, 367, 367, 367, 367, 367, 367, 367, 367, 367, 367, 367, 367, 367, 367, 367, 367, 367, 367, 367, 367, 367, 367, 367, 367, 367, 367, 367, 367, 367, 367, 367, 367, 367, 367, 367, 367, 367, 367, 367, 367, 367, 367, 367, 367, 367, 367, 367, 367, 367, 367, 367, 367, 367, 367, 367, 367, 367, 367, 367, 367, 367, 367, 367, 367, 367, 367, 367, 367, 367, 367, 367, 367, 367, 367, 367, 367, 367, 367, 367, 367, 367, 367, 367, 367, 367, 367, 367, 367, 367, 367, 367, 367, 367, 367, 367, 367, 367, 367, 367, 367, 367, 367, 367, 367, 367, 367, 367, 367, 367, 367, 367, 367, 367, 367, 367, 367, 367, 367, 367, 367, 367, 367, 367, 367, 367, 367, 367, 367, 367, 367, 367, 367, 367, 367, 367, 367, 367, 367, 367, 367, 367, 367, 367, 367, 367, 813, 869, 869, 869, 869, 869, 869, 869, 869, 869, 205, 205, 205, 237, 399, 783, 477, 743, 743, 743, 743, 743, 743, 743, 743, 743, 743, 743, 743, 743, 743, 743, 743, 743, 743, 743, 743, 743, 743, 743, 743, 743, 743, 743, 743, 743, 743, 743, 743, 743, 743, 743, 743, 743, 743, 743, 743, 743, 743, 743, 743, 743, 743, 743, 743, 743, 743, 743, 743, 743, 743, 743, 743, 743, 743, 743, 743, 743, 743, 743, 743, 743, 743, 743, 743, 743, 743, 743, 743, 743, 743, 743, 743, 743, 743, 743, 743, 743, 743, 743, 743, 743, 743, 743, 743, 743, 743, 743, 743, 743, 743, 743, 743, 743, 743, 743, 743, 743, 743, 743, 743, 743, 743, 743, 743, 743, 743, 743, 743, 743, 743, 743, 743, 743, 743, 743, 743, 743, 743, 743, 743, 743, 743, 743, 743, 743, 743, 743, 743, 743, 743, 743, 743, 743, 743, 743, 743, 743, 743, 743, 743, 743, 743, 743, 743, 743, 743, 743, 743, 743, 743, 743, 743, 743, 743, 743, 743, 743, 743, 743, 743, 743, 743, 743, 743, 743, 743, 743, 743, 743, 743, 743, 743, 743, 743, 743, 743, 743, 743, 743, 743, 743, 743, 743, 743, 743, 743, 743, 743, 743, 743, 743, 743, 743, 743, 743, 743, 743, 743, 743, 743, 743, 743, 743, 743, 743, 743, 743, 743, 743, 743, 743, 743, 743, 743, 743, 743, 743, 743, 743, 743, 743, 743, 743, 743, 743, 743, 743, 743, 743, 743, 743, 743, 743, 743, 743, 743, 743, 743, 743, 743, 743, 743, 743, 743, 743, 743, 743, 743, 743, 743, 743, 743, 743, 743, 743, 743, 743, 743, 743, 743, 743, 743, 743, 743, 743, 743, 743, 743, 743, 743, 743, 743, 743, 743, 743, 743, 743, 743, 743, 743, 743, 743, 743, 743, 743, 743, 743, 743, 743, 743, 743, 743, 743, 743, 743, 743, 743, 743, 743, 743, 743, 743, 743, 743, 743, 743, 743, 743, 743, 743, 743, 743, 743, 743, 743, 743, 743, 743, 743, 743, 743, 743, 743, 743, 743, 743, 743, 743, 743, 743, 743, 743, 743, 743, 743, 743, 743, 743, 743, 743, 743, 743, 743, 743, 743, 743, 743, 743, 743, 743, 743, 743, 743, 743, 743, 743, 743, 743, 743, 743, 743, 743, 743, 743, 743, 743, 315, 471, 473, 473, 473, 473, 473, 473, 473, 473, 473, 393, 189, 469, 469, 469, 469, 469, 615, 675, 265, 265, 265, 673, 673, 673, 673, 673, 673, 673, 673, 673, 673, 673, 673, 673, 673, 673, 673, 673, 673, 673, 673, 673, 673, 673, 673, 673, 673, 673, 673, 673, 673, 673, 673, 673, 673, 673, 673, 673, 673, 673, 673, 673, 673, 673, 673, 673, 673, 673, 673, 673, 673, 673, 673, 673, 673, 673, 673, 673, 673, 673, 673, 673, 673, 673, 673, 673, 673, 673, 673, 673, 673, 673, 673, 673, 673, 673, 673, 673, 673, 673, 673, 673, 673, 673, 673, 673, 673, 673, 673, 673, 673, 673, 673, 673, 673, 673, 673, 673, 673, 673, 673, 673, 673, 673, 673, 673, 673, 673, 673, 673, 673, 673, 673, 673, 673, 673, 673, 673, 673, 673, 673, 673, 673, 673, 673, 673, 673, 673, 673, 673, 673, 673, 673, 673, 673, 673, 673, 673, 673, 673, 673, 673, 673, 673, 673, 673, 673, 673, 673, 673, 673, 673, 673, 673, 673, 673, 673, 673, 673, 673, 673, 673, 673, 673, 673, 673, 673, 673, 673, 673, 673, 673, 673, 673, 673, 673, 673, 673, 673, 673, 673, 673, 673, 673, 673, 673, 673, 673, 673, 673, 673, 673, 673, 673, 673, 673, 673, 673, 673, 673, 673, 673, 673, 673, 673, 673, 673, 673, 673, 673, 673, 673, 673, 673, 673, 673, 673, 673, 673, 673, 673, 673, 673, 673, 673, 673, 673, 673, 673, 673, 673, 673, 673, 673, 673, 673, 673, 673, 673, 673, 673, 673, 673, 673, 673, 673, 673, 673, 673, 673, 673, 673, 673, 673, 673, 673, 673, 673, 673, 673, 673, 673, 673, 673, 673, 673, 673, 673, 673, 673, 673, 673, 673, 673, 673, 673, 673, 673, 673, 673, 673, 673, 673, 673, 673, 673, 673, 673, 673, 673, 673, 673, 673, 673, 673, 673, 673, 673, 673, 673, 673, 673, 673, 673, 673, 673, 673, 673, 673, 673, 673, 673, 673, 673, 673, 673, 673, 673, 673, 673, 673, 673, 673, 673, 673, 673, 673, 673, 673, 673, 673, 673, 673, 673, 673, 673, 539, 539, 539, 539, 539, 697, 697, 697, 697, 697, 697, 697, 697, 697, 697, 697, 697, 697, 697, 697, 791, 791, 791, 791, 791, 221, 221, 221, 221, 221, 221, 221, 221, 221, 221, 221, 107, 107, 107, 107, 107, 107, 107, 107, 107, 107, 107, 107, 107, 107, 107, 107, 107, 107, 107, 107, 107, 107, 107, 107, 107, 107, 107, 107, 107, 107, 107, 107, 107, 107, 107, 107, 107, 107, 107, 107, 107, 107, 107, 107, 107, 107, 107, 107, 107, 107, 107, 107, 649, 649, 649, 649, 649, 649, 649, 649, 649, 703, 703, 703, 703, 703, 703, 703, 703, 703, 703, 703, 703, 703, 703, 703, 703, 703, 895, 895, 895, 205, 205, 205, 611, 611, 611, 611, 611, 611, 611, 611, 611, 611, 611, 275, 275, 275, 335, 335, 335, 625, 625, 625, 191, 191, 191, 191, 191, 191, 191, 191, 191, 191, 191, 191, 191, 191, 191, 191, 191, 191, 191, 191, 191, 191, 191, 191, 191, 191, 191, 191, 191, 191, 191, 191, 191, 191, 191, 191, 191, 191, 191, 191, 191, 191, 191, 191, 191, 191, 191, 191, 191, 191, 191, 191, 191, 191, 191, 191, 191, 191, 191, 191, 191, 191, 191, 191, 191, 191, 191, 191, 191, 191, 191, 191, 191, 191, 191, 191, 191, 191, 191, 191, 191, 191, 191, 191, 191, 191, 191, 191, 191, 191, 191, 191, 191, 191, 489, 261, 125, 125, 125, 889, 889, 889, 889, 889, 593, 593, 593, 593, 593, 593, 593, 593, 593, 593, 593, 593, 593, 593, 593, 593, 593, 593, 593, 593, 593, 593, 593, 593, 593, 593, 593, 593, 593, 593, 593, 593, 593, 593, 593, 593, 593, 593, 593, 593, 593, 593, 593, 593, 593, 593, 593, 593, 593, 593, 593, 593, 593, 593, 593, 593, 593, 593, 593, 593, 593, 593, 593, 593, 593, 593, 593, 593, 593, 593, 593, 593, 593, 593, 593, 593, 593, 593, 593, 593, 593, 593, 593, 593, 593, 593, 593, 593, 593, 593, 593, 593, 593, 593, 593, 593, 593, 593, 593, 593, 593, 593, 593, 593, 593, 593, 593, 593, 593, 593, 593, 593, 593, 593, 593, 593, 593, 593, 593, 593, 593, 593, 593, 593, 593, 593, 593, 593, 593, 593, 593, 593, 593, 593, 593, 593, 593, 593, 593, 593, 593, 593, 593, 593, 593, 593, 593, 593, 593, 593, 593, 593, 593, 593, 593, 593, 593, 593, 593, 593, 593, 593, 593, 593, 593, 593, 593, 593, 593, 593, 593, 593, 593, 593, 593, 593, 593, 593, 593, 593, 593, 593, 593, 593, 593, 593, 593, 593, 593, 593, 593, 593, 593, 593, 593, 593, 593, 593, 593, 593, 593, 593, 593, 593, 593, 593, 593, 593, 593, 593, 593, 593, 593, 593, 593, 593, 593, 593, 593, 593, 593, 593, 593, 593, 593, 593, 593, 593, 593, 593, 593, 593, 593, 593, 593, 593, 593, 593, 593, 593, 593, 593, 593, 593, 593, 593, 593, 593, 593, 593, 593, 593, 593, 593, 593, 593, 593, 593, 593, 593, 593, 593, 593, 593, 593, 593, 593, 593, 593, 593, 593, 593, 593, 593, 593, 593, 593, 593, 593, 593, 593, 593, 593, 593, 593, 593, 593, 593, 593, 593, 593, 593, 593, 593, 593, 711, 529, 529, 529, 529, 529, 529, 529, 529, 529, 529, 529, 529, 529, 529, 529, 529, 529, 529, 529, 529, 529, 781, 781, 781, 781, 781, 781, 781, 781, 781, 673, 673, 673, 673, 673, 673, 673, 673, 673, 673, 673, 673, 673, 673, 673, 673, 673, 673, 673, 673, 673, 673, 673, 673, 673, 673, 673, 673, 673, 673, 673, 673, 673, 673, 673, 673, 673, 673, 673, 673, 673, 673, 673, 673, 673, 673, 673, 673, 673, 673, 673, 673, 673, 673, 673, 673, 673, 673, 673, 673, 673, 673, 673, 673, 673, 673, 673, 673, 673, 673, 673, 673, 673, 673, 673, 673, 673, 673, 673, 673, 673, 673, 673, 673, 673, 673, 673, 673, 673, 673, 673, 673, 673, 673, 673, 673, 673, 673, 673, 673, 673, 673, 673, 673, 673, 673, 673, 673, 673, 673, 673, 673, 673, 673, 673, 673, 673, 673, 673, 673, 673, 673, 673, 673, 673, 673, 673, 673, 673, 673, 673, 673, 673, 673, 673, 673, 673, 673, 673, 673, 673, 673, 673, 673, 673, 673, 673, 673, 673, 673, 673, 673, 673, 673, 673, 673, 673, 673, 673, 673, 673, 673, 673, 673, 673, 673, 673, 673, 673, 673, 673, 673, 673, 673, 673, 673, 673, 673, 673, 673, 673, 673, 673, 673, 673, 673, 673, 673, 673, 673, 673, 673, 673, 673, 673, 673, 673, 673, 673, 673, 673, 673, 673, 673, 673, 673, 673, 673, 673, 673, 673, 673, 673, 673, 673, 673, 673, 673, 673, 673, 673, 673, 673, 673, 673, 673, 673, 673, 673, 673, 673, 673, 673, 673, 673, 673, 673, 673, 673, 673, 673, 673, 673, 673, 673, 673, 673, 673, 673, 673, 673, 673, 673, 673, 673, 673, 673, 673, 673, 673, 673, 673, 673, 673, 673, 673, 673, 673, 673, 673, 673, 673, 673, 673, 673, 673, 673, 673, 673, 673, 673, 673, 673, 673, 673, 673, 673, 673, 673, 673, 673, 673, 673, 673, 673, 673, 673, 673, 673, 673, 673, 673, 673, 673, 673, 673, 673, 673, 673, 673, 673, 673, 673, 673, 673, 673, 673, 673, 673, 673, 673, 673, 673, 673, 673, 673, 673, 673, 673, 673, 673, 673, 673, 673, 673, 191, 191, 191, 191, 191, 191, 191, 191, 191, 191, 191, 191, 191, 191, 191, 191, 191, 191, 191, 191, 191, 191, 191, 191, 191, 191, 191, 191, 191, 191, 191, 191, 191, 191, 191, 191, 191, 191, 191, 191, 191, 191, 191, 191, 191, 191, 191, 191, 191, 191, 191, 191, 191, 191, 191, 191, 191, 191, 191, 191, 191, 191, 191, 191, 191, 191, 191, 191, 191, 191, 191, 191, 191, 191, 191, 191, 191, 191, 191, 191, 191, 191, 191, 191, 191, 191, 191, 191, 191, 191, 191, 191, 191, 191, 145, 145, 145]\n"
          ]
        }
      ]
    },
    {
      "cell_type": "code",
      "source": [
        "d = {1: \"one\", 2: \"two\", 3: \"three\", 4: \"four\", 5: \"five\"}\n",
        "print(\"The dictionary is:\")\n",
        "print(d)\n",
        "\n",
        "# Print keys and values separately\n",
        "print(\"\\nKeys and values in the dictionary:\")\n",
        "for key, value in d.items():\n",
        "    print(f\"Key: {key}, Value: {value}\")"
      ],
      "metadata": {
        "colab": {
          "base_uri": "https://localhost:8080/"
        },
        "id": "XhvMCM0OBFiB",
        "outputId": "68da957b-7616-4f91-a40e-c96a130e2a49"
      },
      "execution_count": 2,
      "outputs": [
        {
          "output_type": "stream",
          "name": "stdout",
          "text": [
            "The dictionary is:\n",
            "{1: 'one', 2: 'two', 3: 'three', 4: 'four', 5: 'five'}\n",
            "\n",
            "Keys and values in the dictionary:\n",
            "Key: 1, Value: one\n",
            "Key: 2, Value: two\n",
            "Key: 3, Value: three\n",
            "Key: 4, Value: four\n",
            "Key: 5, Value: five\n"
          ]
        }
      ]
    },
    {
      "cell_type": "code",
      "source": [
        "L = {\"one\", \"two\", \"three\", \"four\", \"five\"}\n",
        "print(\"The original set is:\")\n",
        "print(L)\n",
        "\n",
        "fp=open(\"list.txt\",\"w\")\n",
        "print(\"\\nLength of each element:\")\n",
        "for element in L:\n",
        "    print(f\"'{element}': {len(element)} characters\")\n",
        "    fp.write(f\"{element},{len(element)}\\n\")"
      ],
      "metadata": {
        "colab": {
          "base_uri": "https://localhost:8080/"
        },
        "id": "-y5S-AuwM_4k",
        "outputId": "60ee1ff8-eb1f-4c16-8e59-a01c52b6a5ce"
      },
      "execution_count": 10,
      "outputs": [
        {
          "output_type": "stream",
          "name": "stdout",
          "text": [
            "The original set is:\n",
            "{'two', 'four', 'five', 'one', 'three'}\n",
            "\n",
            "Length of each element:\n",
            "'two': 3 characters\n",
            "'four': 4 characters\n",
            "'five': 4 characters\n",
            "'one': 3 characters\n",
            "'three': 5 characters\n"
          ]
        }
      ]
    },
    {
      "cell_type": "code",
      "source": [
        "import random as r\n",
        "import string as s\n",
        "n=100\n",
        "min_length=10\n",
        "max_length=15\n",
        "letters=string.ascii_lowercase\n",
        "fp=open(\"random_strings.txt\",\"w\")\n",
        "for i in range(n):\n",
        "  random_length=r.randint(min_length,max_length)\n",
        "  random_string=''.join(r.choice(letters) for i in range(random_length))\n",
        "  fp.write(random_string+\"\\n\")\n",
        "print(\"100 random string written to the file\")"
      ],
      "metadata": {
        "colab": {
          "base_uri": "https://localhost:8080/"
        },
        "id": "Eg8bxt1MBZKb",
        "outputId": "67a0e599-2e04-4ad4-8ef5-08a92bc6c207"
      },
      "execution_count": null,
      "outputs": [
        {
          "output_type": "stream",
          "name": "stdout",
          "text": [
            "100 random string written to the file\n"
          ]
        }
      ]
    },
    {
      "cell_type": "code",
      "source": [
        "def Is_prime(n):\n",
        "    if n < 2:\n",
        "        return False\n",
        "    for i in range(2, int(n**0.5) + 1):\n",
        "        if n % i == 0:\n",
        "            return False\n",
        "    return True\n",
        "\n",
        "# Generate prime numbers between 600 and 800\n",
        "prime_numbers = [num for num in range(600, 801) if is_prime(num)]\n",
        "\n",
        "# Write prime numbers to a file\n",
        "with open('prime_numbers_600_to_800.txt', 'w') as file:\n",
        "    for prime in prime_numbers:\n",
        "        file.write(str(prime) + '\\n')\n",
        "\n",
        "print(f\"Writing done !! \\nOpen prime_numbers_600_to_800.txt to view the content \")\n",
        "print(f\"Total prime numbers found: {len(prime_numbers)}\")"
      ],
      "metadata": {
        "colab": {
          "base_uri": "https://localhost:8080/"
        },
        "id": "rEkf65DaQqZ3",
        "outputId": "6cbc4cfb-1121-4c51-ae01-1770a722dccf"
      },
      "execution_count": 12,
      "outputs": [
        {
          "output_type": "stream",
          "name": "stdout",
          "text": [
            "Writing done !! \n",
            "Open prime_numbers_600_to_800.txt to view the content \n",
            "Total prime numbers found: 30\n"
          ]
        }
      ]
    },
    {
      "cell_type": "code",
      "source": [
        "import time\n",
        "\n",
        "t1=time.time()\n",
        "\n",
        "for i in range(100000):\n",
        "  for i in range(100000):\n",
        "    x=900\n",
        "\n",
        "t2=time.time()\n",
        "print(\"total time:\",t2-t1)"
      ],
      "metadata": {
        "colab": {
          "base_uri": "https://localhost:8080/"
        },
        "id": "A04tDli1QBeo",
        "outputId": "933c2402-ea1b-416b-ec2a-452d13261123"
      },
      "execution_count": 11,
      "outputs": [
        {
          "output_type": "stream",
          "name": "stdout",
          "text": [
            "total time: 654.9127969741821\n"
          ]
        }
      ]
    },
    {
      "cell_type": "code",
      "source": [
        "from builtins import sum\n",
        "student_marks = {\n",
        "    'Tejay': [85, 90, 88, 92, 87],\n",
        "    'Hiram': [78, 85, 80, 82, 75],\n",
        "    'Shiteez': [90, 92, 95, 88, 85],\n",
        "    'Shadab': [80, 75, 82, 88, 90],\n",
        "    'Lovely': [85, 86, 89, 90, 82]\n",
        "}\n",
        "\n",
        "# Calculate average marks for each student\n",
        "average_marks = {name: sum(marks) / len(marks) for name, marks in student_marks.items()}\n",
        "\n",
        "# Find student with maximum average marks\n",
        "max_avg_student = max(average_marks, key=average_marks.get)\n",
        "\n",
        "# Find student with minimum average marks\n",
        "min_avg_student = min(average_marks, key=average_marks.get)\n",
        "\n",
        "print(f\"Student with maximum average marks: {max_avg_student}, Average marks: {average_marks[max_avg_student]}\")\n",
        "print(f\"Student with minimum average marks: {min_avg_student}, Average marks: {average_marks[min_avg_student]}\")"
      ],
      "metadata": {
        "colab": {
          "base_uri": "https://localhost:8080/"
        },
        "id": "35n-RVaMS7Hp",
        "outputId": "e967e7f8-94f6-4560-86c4-cc41b2d2b75e"
      },
      "execution_count": 13,
      "outputs": [
        {
          "output_type": "stream",
          "name": "stdout",
          "text": [
            "Student with maximum average marks: Shiteez, Average marks: 90.0\n",
            "Student with minimum average marks: Hiram, Average marks: 80.0\n"
          ]
        }
      ]
    }
  ]
}